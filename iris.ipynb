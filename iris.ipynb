from IPython.display import Image
Image(url='https://editor.analyticsvidhya.com/uploads/51518iris%20img1.png', width=850)
# import libraries

import numpy as np
import pandas as pd
import seaborn as sns
import matplotlib.pyplot as plt
# Import libraries for classification task
from sklearn.model_selection import train_test_split
from sklearn.linear_model import LogisticRegression
from sklearn.metrics import accuracy_score , confusion_matrix , classification_report
from sklearn.metrics import precision_score, recall_score, f1_score
from sklearn.preprocessing import LabelEncoder
from sklearn.linear_model import LogisticRegression
from sklearn.svm import SVC
from sklearn.tree import DecisionTreeClassifier
from sklearn.ensemble import RandomForestClassifier, AdaBoostClassifier, GradientBoostingClassifier
from sklearn.naive_bayes import MultinomialNB, BernoulliNB
from sklearn.pipeline import Pipeline
from sklearn.metrics import confusion_matrix, classification_report, accuracy_score, precision_score, recall_score
#Remove warnings
import warnings
warnings.filterwarnings('ignore')
# Load Dataset

df = pd.read_csv('Iris.csv')
df.head()
# check for missing values
df.isnull().sum()
df['Species'].value_counts()
df.nunique()
df.nunique()
# check for duplicates in the data
df.duplicated().sum()
# remove id column
df.drop('Id', axis = 1, inplace=True)
df.head()
# Descriptive Summary
df.describe()
# box plots for each numerical feature
plt.figure(figsize=(8, 5))
sns.boxplot(data=df, orient='v', palette='Set1')
plt.title('Box Plots of Iris Features')
plt.show()
# Create scatter plots for selected pairs of features
plt.figure(figsize=(10, 8))

plt.subplot(2, 2, 1)
sns.scatterplot(data=df, x='SepalLengthCm', y='SepalWidthCm', hue='Species', palette='Set1')
plt.title('Sepal Length vs Sepal Width')

plt.subplot(2, 2, 2)
sns.scatterplot(data=df, x='PetalLengthCm', y='PetalWidthCm', hue='Species', palette='Set1')
plt.title('Petal Length vs Petal Width')

plt.subplot(2, 2, 3)
sns.scatterplot(data=df, x='SepalLengthCm', y='PetalLengthCm', hue='Species', palette='Set1')
plt.title('Sepal Length vs Petal Length')

plt.subplot(2, 2, 4)
sns.scatterplot(data=df, x='SepalWidthCm', y='PetalWidthCm', hue='Species', palette='Set1')
plt.title('Sepal Width vs Petal Width')

plt.tight_layout()
plt.show()
# Pair plots provide a grid of scatter plots for each pair of numerical features along with histograms for individual features.
sns.pairplot(df, hue='Species', palette='Set1', markers=["o", "o", "o"])
plt.suptitle('Pair Plot of Iris Features')
plt.show()
# heatmap for correlation matrix
numerical_features = df.drop(columns='Species')
correlation_matrix = numerical_features.corr()

plt.figure(figsize=(6,4))
sns.heatmap(correlation_matrix, annot=True)

# Add title
plt.title('Heatmap of Iris Feature Correlations')
plt.show()
# extract independent and dependent variables
X = df.drop(columns='Species')
y = df['Species']

# train test split
X_train,  X_test, y_train, y_test = train_test_split(X, y, test_size=0.2)
# print the shapes
print("X_train: ",X_train.shape)
print("X_test: ",X_test.shape)
print("y_train: ",y_train.shape)
print("y_test: ",y_test.shape)
# converting categorical variables into numbers
flower_mapping = {'Iris-setosa':0,'Iris-versicolor':1,'Iris-virginica':2}
df['Species']=df['Species'].map(flower_mapping)
df.head()
df.tail()
# preparing inputs and outputs
X=df [['SepalLengthCm','SepalWidthCm','PetalLengthCm','PetalWidthCm']].values
y= df[['Species']].values
# LOGISTIC REGRESSION
from sklearn.linear_model import LogisticRegression
model= LogisticRegression()
model.fit(X,y)
# accuracy
model.score(X,y)
# make prediction for all 150 species in dataset
expected = y
predicted = model.predict(X)
predicted
# summarize the fit of the model
from sklearn import metrics
print(metrics.classification_report(expected, predicted))
# confusion metrics
print(metrics.confusion_matrix(expected, predicted))
from sklearn.svm import SVC

model_svc=SVC()
model_svc.fit(X_train,y_train)
prediction1 = model_svc.predict(X_test)
#calculate the accuracy
from sklearn.metrics import accuracy_score
print(accuracy_score(y_test, prediction1))
from sklearn.tree import DecisionTreeClassifier
model_DTC = DecisionTreeClassifier()
model_DTC.fit(X_train, y_train)
prediction3= model_svc.predict(X_test)
#calculate the accuracy
from sklearn.metrics import accuracy_score
print(accuracy_score(y_test, prediction3))
# New data for prediction
X_new = np.array([[3, 2, 1, 0.2], [4.9, 2.2, 3.8, 1.1], [5.3, 2.5, 4.6, 1.9]])
# Predicting the sizes of the iris flowers
predicted_sizes = model.predict(X_new)
# Output the predicted sizes
print(predicted_sizes)


