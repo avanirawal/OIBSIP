{
  "nbformat": 4,
  "nbformat_minor": 0,
  "metadata": {
    "colab": {
      "private_outputs": true,
      "provenance": [],
      "include_colab_link": true
    },
    "kernelspec": {
      "name": "python3",
      "display_name": "Python 3"
    },
    "language_info": {
      "name": "python"
    }
  },
  "cells": [
    {
      "cell_type": "markdown",
      "metadata": {
        "id": "view-in-github",
        "colab_type": "text"
      },
      "source": [
        "<a href=\"https://colab.research.google.com/github/avanirawal/OIBSIP/blob/main/unemployment.ipynb\" target=\"_parent\"><img src=\"https://colab.research.google.com/assets/colab-badge.svg\" alt=\"Open In Colab\"/></a>"
      ]
    },
    {
      "cell_type": "markdown",
      "source": [
        "# **AVANI RAWAL**"
      ],
      "metadata": {
        "id": "aMBrlC7li6MF"
      }
    },
    {
      "cell_type": "markdown",
      "source": [
        "## **TASK 2**"
      ],
      "metadata": {
        "id": "YWdLN-bVsTco"
      }
    },
    {
      "cell_type": "markdown",
      "source": [
        "# PROJECT NAME - **UNEMPLOYMENT ANALYSIS WITH PYTHON**"
      ],
      "metadata": {
        "id": "lUBFkkjLsTZf"
      }
    },
    {
      "cell_type": "code",
      "source": [
        "from IPython.display import Image\n",
        "Image(url='https://i.pinimg.com/564x/26/d1/51/26d15109071a45b69eae9a48f96d2e74.jpg', width=650)"
      ],
      "metadata": {
        "id": "DeT6jVJjw5U1"
      },
      "execution_count": null,
      "outputs": []
    },
    {
      "cell_type": "markdown",
      "source": [
        "## PROBLEM STATEMENT"
      ],
      "metadata": {
        "id": "pf_-7cDfsTRy"
      }
    },
    {
      "cell_type": "markdown",
      "source": [
        "Unemployment is measured by the unemployment rate which is the number of people\n",
        "who are unemployed as a percentage of the total labour force. We have seen a sharp\n",
        "increase in the unemployment rate during Covid-19, so analyzing the unemployment rate\n",
        "can be a good data science project."
      ],
      "metadata": {
        "id": "Rmx5OjTxs-ge"
      }
    },
    {
      "cell_type": "code",
      "execution_count": null,
      "metadata": {
        "id": "L_duhwdXUanb"
      },
      "outputs": [],
      "source": [
        "#importing libraries\n",
        "import numpy as np\n",
        "import pandas as pd\n",
        "import matplotlib.pyplot as plt\n",
        "import seaborn as sns\n",
        "import plotly .express as px"
      ]
    },
    {
      "cell_type": "code",
      "source": [
        "#loading the data set\n",
        "data = pd.read_csv('/content/Unemployment_Rate_upto_11_2020.csv')\n",
        "data"
      ],
      "metadata": {
        "id": "b4B-IsQrU0k9"
      },
      "execution_count": null,
      "outputs": []
    },
    {
      "cell_type": "code",
      "source": [
        "# checking dataset information\n",
        "data.info()"
      ],
      "metadata": {
        "id": "2V--JR3pYXND"
      },
      "execution_count": null,
      "outputs": []
    },
    {
      "cell_type": "code",
      "source": [
        "# describing the dataset\n",
        "data.describe()"
      ],
      "metadata": {
        "id": "vyA3Klu-YeID"
      },
      "execution_count": null,
      "outputs": []
    },
    {
      "cell_type": "code",
      "source": [
        "# check null/missing values\n",
        "data.isnull().sum()"
      ],
      "metadata": {
        "id": "9gJ4KP3tYsdL"
      },
      "execution_count": null,
      "outputs": []
    },
    {
      "cell_type": "code",
      "source": [
        "# rename columns\n",
        "data.columns = ['Area','Date','Frequency','Estimated Unemployment Rate',\n",
        "                'Estimated Employed','Estimated Labour Participation Rate',\n",
        "                'Region','Longitude','Latitude']"
      ],
      "metadata": {
        "id": "7221DKKSYuui"
      },
      "execution_count": null,
      "outputs": []
    },
    {
      "cell_type": "code",
      "source": [
        "# analysing top rows of dataset\n",
        "data.head()"
      ],
      "metadata": {
        "id": "Uf1XYpN4ZPb-"
      },
      "execution_count": null,
      "outputs": []
    },
    {
      "cell_type": "code",
      "source": [
        "#correlation checking\n",
        "#plotting correlation heatmap\n",
        "\n",
        "plt.style.use('ggplot')\n",
        "plt.figure(figsize=(10,8))\n",
        "\n",
        "# Select only numeric columns for correlation calculation\n",
        "numeric_data = data.select_dtypes(include=['float', 'int'])\n",
        "\n",
        "# Compute the correlation matrix and plot the heatmap\n",
        "ax = sns.heatmap(numeric_data.corr(), annot=True, linewidth=3)\n",
        "\n",
        "# Set tick parameters AFTER ax is defined\n",
        "ax.tick_params(size=8,color='black',labelsize=12, labelcolor='r')\n",
        "\n",
        "plt.show()"
      ],
      "metadata": {
        "id": "ILuROI2xT7Cb"
      },
      "execution_count": null,
      "outputs": []
    },
    {
      "cell_type": "markdown",
      "source": [
        "## Estimated no of employee according to different region of india"
      ],
      "metadata": {
        "id": "3xNU9o47vT-s"
      }
    },
    {
      "cell_type": "code",
      "source": [
        "# plotting histplot\n",
        "\n",
        "data.columns=['Area','Date','Frequency','Estimated Unemployment Rate',\n",
        "                'Estimated Employed','Estimated Labour Participation Rate',\n",
        "                'Region','Longitude','Latitude']\n",
        "plt.title('Indian Unemployment')\n",
        "sns.histplot(x='Estimated Employed',hue='Region',data=data)\n",
        "plt.show()"
      ],
      "metadata": {
        "id": "wBGXHk_guvWU"
      },
      "execution_count": null,
      "outputs": []
    },
    {
      "cell_type": "markdown",
      "source": [
        "## Unemployment rate according to different regions of india"
      ],
      "metadata": {
        "id": "l6LEyaaivZl4"
      }
    },
    {
      "cell_type": "code",
      "source": [
        "# plotting histplot\n",
        "\n",
        "plt.figure(figsize=(11,9))\n",
        "plt.title(\"Indian Unemployment\")\n",
        "sns.histplot(x=\"Estimated Unemployment Rate\",hue='Region',data=data)\n",
        "plt.show()"
      ],
      "metadata": {
        "id": "TCtHLIzLyP5M"
      },
      "execution_count": null,
      "outputs": []
    },
    {
      "cell_type": "code",
      "source": [
        "# dashboard to analyze the unemployment rate of each indian state"
      ],
      "metadata": {
        "id": "FEtFScdGydzB"
      },
      "execution_count": null,
      "outputs": []
    },
    {
      "cell_type": "code",
      "source": [
        "# plotting sunburst\n",
        "\n",
        "unemployment = data[['Area','Region','Estimated Unemployment Rate']]\n",
        "figure = px.sunburst(unemployment,path=['Region','Area'],\n",
        "                     values='Estimated Unemployment Rate',\n",
        "                     width=800,height=500, color_continuous_scale='YlGnRd',\n",
        "                     title=\"Unemployment Rate in India\")\n",
        "figure.show()"
      ],
      "metadata": {
        "id": "sGOk80FMypb5"
      },
      "execution_count": null,
      "outputs": []
    },
    {
      "cell_type": "code",
      "source": [
        "# Bar Plot of Average Estimated Unemployment Rate\n",
        "# Bar Plot of Average Estimated Unemployment Rate\n",
        "fig = px.bar(data, x = \"Area\", y = \"Estimated Unemployment Rate\", color = \"Region\", title = \"Average unemploment Rate\") # Changed y-axis column name\n",
        "fig.update_layout(xaxis = {'categoryorder':'total descending'})\n",
        "fig.show()"
      ],
      "metadata": {
        "id": "xQgATiTTzyQr"
      },
      "execution_count": null,
      "outputs": []
    },
    {
      "cell_type": "code",
      "source": [
        "avg_unemployement_over_time = data.groupby('Date')['Estimated Unemployment Rate'].mean().sort_values(ascending=False).reset_index()\n",
        "avg_unemployement_over_region = data.groupby('Region')['Estimated Unemployment Rate'].mean().sort_values(ascending=False).reset_index()\n",
        "avg_people_employed_over_region = data.groupby('Region')['Estimated Employed'].mean().sort_values(ascending=False).reset_index()\n",
        "avg_labour_part_rate_over_region = data.groupby('Region')['Estimated Labour Participation Rate'].mean().sort_values(ascending=False).reset_index()\n",
        "avg_unemployement_area_wise = data.groupby('Area')['Estimated Unemployment Rate'].mean().sort_values(ascending=False).reset_index()\n",
        "highest_unemployement_rate_month = data.groupby('Date')['Estimated Unemployment Rate'].max().sort_values(ascending=False).reset_index()"
      ],
      "metadata": {
        "id": "R46Q1D5s_kt9"
      },
      "execution_count": null,
      "outputs": []
    },
    {
      "cell_type": "code",
      "source": [
        "# print all the dataframes\n",
        "print(\"Average Unemployment Rate over time\\n\", avg_unemployement_over_time)\n",
        "print(\"\\nAverage Unemployment Rate over Region\\n\", avg_unemployement_over_region)\n",
        "print(\"\\nAverage People employed over Region\\n\", avg_people_employed_over_region)\n",
        "print(\"\\nAverage Labour Participation Rate over Region\\n\", avg_labour_part_rate_over_region)\n",
        "print(\"\\nAverage Unemployment Rate over Area\\n\", avg_unemployement_area_wise)\n",
        "print(\"\\nHighest Unemployment Rate Month wise\\n\", highest_unemployement_rate_month)"
      ],
      "metadata": {
        "id": "Kcn2wX8KA1AB"
      },
      "execution_count": null,
      "outputs": []
    }
  ]
}